{
  "nbformat": 4,
  "nbformat_minor": 5,
  "metadata": {
    "kernelspec": {
      "display_name": "Python 3",
      "language": "python",
      "name": "python3"
    },
    "language_info": {
      "codemirror_mode": {
        "name": "ipython",
        "version": 3
      },
      "file_extension": ".py",
      "mimetype": "text/x-python",
      "name": "python",
      "nbconvert_exporter": "python",
      "pygments_lexer": "ipython3",
      "version": "3.8.8"
    },
    "colab": {
      "name": "Assignment Model_1-final.ipynb",
      "provenance": [],
      "collapsed_sections": []
    },
    "accelerator": "GPU"
  },
  "cells": [
    {
      "cell_type": "code",
      "metadata": {
        "colab": {
          "base_uri": "https://localhost:8080/"
        },
        "id": "jk61ZThaAX-R",
        "outputId": "cb713f6a-61c1-47f8-811c-729b01d35811"
      },
      "source": [
        "from google.colab import drive\n",
        "drive.mount('/content/drive')"
      ],
      "id": "jk61ZThaAX-R",
      "execution_count": 1,
      "outputs": [
        {
          "output_type": "stream",
          "name": "stdout",
          "text": [
            "Drive already mounted at /content/drive; to attempt to forcibly remount, call drive.mount(\"/content/drive\", force_remount=True).\n"
          ]
        }
      ]
    },
    {
      "cell_type": "code",
      "metadata": {
        "scrolled": true,
        "colab": {
          "base_uri": "https://localhost:8080/"
        },
        "id": "ef4450d5",
        "outputId": "e1d55f22-0dc7-4aad-a81c-e0fe7ce153fc"
      },
      "source": [
        "import numpy as np\n",
        "data = np.load('/content/drive/MyDrive/DL/data_final_100_3_9.npy')\n",
        "target = np.load('/content/drive/MyDrive/DL/target_final_100_3_9.npy')\n",
        "\n",
        "\n",
        "print('data :',data.shape)\n",
        "print('target :',target.shape)\n",
        "print(data.shape[1:])"
      ],
      "id": "ef4450d5",
      "execution_count": 2,
      "outputs": [
        {
          "output_type": "stream",
          "name": "stdout",
          "text": [
            "data : (22751, 100, 100, 3)\n",
            "target : (22751, 9)\n",
            "(100, 100, 3)\n"
          ]
        }
      ]
    },
    {
      "cell_type": "code",
      "metadata": {
        "colab": {
          "base_uri": "https://localhost:8080/"
        },
        "id": "ckQgpE-0Bzas",
        "outputId": "c28eb1c0-034a-4e1c-9be1-75ea8449f4f5"
      },
      "source": [
        "val_data = np.load('/content/drive/MyDrive/DL/val_data_final_100_3_9.npy')\n",
        "val_target = np.load('/content/drive/MyDrive/DL/val_target_final_100_3_9.npy')\n",
        "\n",
        "print('val_data : ',val_data.shape)\n",
        "print('val_target:',val_target.shape)"
      ],
      "id": "ckQgpE-0Bzas",
      "execution_count": 3,
      "outputs": [
        {
          "output_type": "stream",
          "name": "stdout",
          "text": [
            "val_data :  (2258, 100, 100, 3)\n",
            "val_target: (2258, 9)\n"
          ]
        }
      ]
    },
    {
      "cell_type": "code",
      "metadata": {
        "id": "68a914ff"
      },
      "source": [
        "from tensorflow.keras.models import Sequential\n",
        "from tensorflow.keras.layers import Conv2D, MaxPooling2D, Dense, Flatten, Activation, Dropout,BatchNormalization"
      ],
      "id": "68a914ff",
      "execution_count": 4,
      "outputs": []
    },
    {
      "cell_type": "code",
      "metadata": {
        "colab": {
          "base_uri": "https://localhost:8080/"
        },
        "id": "941d00e1",
        "outputId": "9141589d-3026-4eea-9bb4-0048a5e3da1f"
      },
      "source": [
        "model = Sequential()\n",
        "\n",
        "model.add(Conv2D(128,(3,3),input_shape = data.shape[1:], padding = 'same'))\n",
        "model.add(Activation('relu'))\n",
        "model.add(MaxPooling2D(pool_size = (2,2)))\n",
        "\n",
        "model.add(Conv2D(64,(3,3),padding = 'same'))\n",
        "model.add(Activation('relu'))\n",
        "model.add(MaxPooling2D(pool_size = (2,2)))\n",
        "\n",
        "model.add(Conv2D(16,(3,3),padding = 'same'))\n",
        "model.add(Activation('relu'))\n",
        "model.add(MaxPooling2D(pool_size = (2,2)))\n",
        "\n",
        "model.add(Flatten())\n",
        "\n",
        "#model.add(Dense(1024,activation = 'relu'))\n",
        "model.add(Dropout(0.4))\n",
        "model.add(Dense(512,activation = 'relu'))\n",
        "model.add(Dropout(0.5))\n",
        "model.add(Dense(120,activation = 'relu'))\n",
        "model.add(Dense(9,activation = 'softmax'))\n",
        "\n",
        "model.compile (loss = 'categorical_crossentropy',\n",
        "              optimizer = 'adam',\n",
        "              metrics = ['accuracy'])\n",
        "\n",
        "model.summary()"
      ],
      "id": "941d00e1",
      "execution_count": 6,
      "outputs": [
        {
          "output_type": "stream",
          "name": "stdout",
          "text": [
            "Model: \"sequential\"\n",
            "_________________________________________________________________\n",
            "Layer (type)                 Output Shape              Param #   \n",
            "=================================================================\n",
            "conv2d (Conv2D)              (None, 100, 100, 128)     3584      \n",
            "_________________________________________________________________\n",
            "activation (Activation)      (None, 100, 100, 128)     0         \n",
            "_________________________________________________________________\n",
            "max_pooling2d (MaxPooling2D) (None, 50, 50, 128)       0         \n",
            "_________________________________________________________________\n",
            "conv2d_1 (Conv2D)            (None, 50, 50, 64)        73792     \n",
            "_________________________________________________________________\n",
            "activation_1 (Activation)    (None, 50, 50, 64)        0         \n",
            "_________________________________________________________________\n",
            "max_pooling2d_1 (MaxPooling2 (None, 25, 25, 64)        0         \n",
            "_________________________________________________________________\n",
            "conv2d_2 (Conv2D)            (None, 25, 25, 16)        9232      \n",
            "_________________________________________________________________\n",
            "activation_2 (Activation)    (None, 25, 25, 16)        0         \n",
            "_________________________________________________________________\n",
            "max_pooling2d_2 (MaxPooling2 (None, 12, 12, 16)        0         \n",
            "_________________________________________________________________\n",
            "flatten (Flatten)            (None, 2304)              0         \n",
            "_________________________________________________________________\n",
            "dropout (Dropout)            (None, 2304)              0         \n",
            "_________________________________________________________________\n",
            "dense (Dense)                (None, 512)               1180160   \n",
            "_________________________________________________________________\n",
            "dropout_1 (Dropout)          (None, 512)               0         \n",
            "_________________________________________________________________\n",
            "dense_1 (Dense)              (None, 120)               61560     \n",
            "_________________________________________________________________\n",
            "dense_2 (Dense)              (None, 9)                 1089      \n",
            "=================================================================\n",
            "Total params: 1,329,417\n",
            "Trainable params: 1,329,417\n",
            "Non-trainable params: 0\n",
            "_________________________________________________________________\n"
          ]
        }
      ]
    },
    {
      "cell_type": "code",
      "metadata": {
        "colab": {
          "base_uri": "https://localhost:8080/"
        },
        "id": "5a7618c2",
        "outputId": "bbb5774f-4627-4e27-9ca7-09e615fa6a77"
      },
      "source": [
        "#model.fit(data,target,epochs = 10, validation_split = 0.1, batch_size = 16)\n",
        "model.fit(data,target,epochs = 20, validation_data = (val_data, val_target), batch_size = 32)"
      ],
      "id": "5a7618c2",
      "execution_count": 7,
      "outputs": [
        {
          "output_type": "stream",
          "name": "stdout",
          "text": [
            "Epoch 1/20\n",
            "711/711 [==============================] - 67s 48ms/step - loss: 0.5983 - accuracy: 0.7632 - val_loss: 0.1454 - val_accuracy: 0.9446\n",
            "Epoch 2/20\n",
            "711/711 [==============================] - 32s 46ms/step - loss: 0.2101 - accuracy: 0.9231 - val_loss: 0.0756 - val_accuracy: 0.9730\n",
            "Epoch 3/20\n",
            "711/711 [==============================] - 33s 46ms/step - loss: 0.1497 - accuracy: 0.9445 - val_loss: 0.0525 - val_accuracy: 0.9814\n",
            "Epoch 4/20\n",
            "711/711 [==============================] - 34s 47ms/step - loss: 0.1092 - accuracy: 0.9608 - val_loss: 0.0481 - val_accuracy: 0.9779\n",
            "Epoch 5/20\n",
            "711/711 [==============================] - 34s 47ms/step - loss: 0.0986 - accuracy: 0.9666 - val_loss: 0.0424 - val_accuracy: 0.9845\n",
            "Epoch 6/20\n",
            "711/711 [==============================] - 34s 47ms/step - loss: 0.0749 - accuracy: 0.9751 - val_loss: 0.0325 - val_accuracy: 0.9849\n",
            "Epoch 7/20\n",
            "711/711 [==============================] - 33s 47ms/step - loss: 0.0657 - accuracy: 0.9769 - val_loss: 0.0298 - val_accuracy: 0.9903\n",
            "Epoch 8/20\n",
            "711/711 [==============================] - 33s 47ms/step - loss: 0.0606 - accuracy: 0.9796 - val_loss: 0.0273 - val_accuracy: 0.9894\n",
            "Epoch 9/20\n",
            "711/711 [==============================] - 33s 47ms/step - loss: 0.0479 - accuracy: 0.9841 - val_loss: 0.0272 - val_accuracy: 0.9903\n",
            "Epoch 10/20\n",
            "711/711 [==============================] - 33s 47ms/step - loss: 0.0522 - accuracy: 0.9822 - val_loss: 0.0645 - val_accuracy: 0.9748\n",
            "Epoch 11/20\n",
            "711/711 [==============================] - 33s 47ms/step - loss: 0.0467 - accuracy: 0.9849 - val_loss: 0.0373 - val_accuracy: 0.9845\n",
            "Epoch 12/20\n",
            "711/711 [==============================] - 34s 47ms/step - loss: 0.0458 - accuracy: 0.9855 - val_loss: 0.0248 - val_accuracy: 0.9885\n",
            "Epoch 13/20\n",
            "711/711 [==============================] - 33s 47ms/step - loss: 0.0390 - accuracy: 0.9876 - val_loss: 0.0199 - val_accuracy: 0.9916\n",
            "Epoch 14/20\n",
            "711/711 [==============================] - 33s 47ms/step - loss: 0.0365 - accuracy: 0.9876 - val_loss: 0.0219 - val_accuracy: 0.9911\n",
            "Epoch 15/20\n",
            "711/711 [==============================] - 33s 47ms/step - loss: 0.0309 - accuracy: 0.9905 - val_loss: 0.0240 - val_accuracy: 0.9916\n",
            "Epoch 16/20\n",
            "711/711 [==============================] - 33s 47ms/step - loss: 0.0411 - accuracy: 0.9879 - val_loss: 0.0291 - val_accuracy: 0.9907\n",
            "Epoch 17/20\n",
            "711/711 [==============================] - 33s 47ms/step - loss: 0.0385 - accuracy: 0.9880 - val_loss: 0.0171 - val_accuracy: 0.9934\n",
            "Epoch 18/20\n",
            "711/711 [==============================] - 33s 47ms/step - loss: 0.0442 - accuracy: 0.9884 - val_loss: 0.0289 - val_accuracy: 0.9911\n",
            "Epoch 19/20\n",
            "711/711 [==============================] - 34s 47ms/step - loss: 0.0302 - accuracy: 0.9913 - val_loss: 0.0181 - val_accuracy: 0.9929\n",
            "Epoch 20/20\n",
            "711/711 [==============================] - 33s 47ms/step - loss: 0.0315 - accuracy: 0.9901 - val_loss: 0.0243 - val_accuracy: 0.9889\n"
          ]
        },
        {
          "output_type": "execute_result",
          "data": {
            "text/plain": [
              "<keras.callbacks.History at 0x7efea02d4bd0>"
            ]
          },
          "metadata": {},
          "execution_count": 7
        }
      ]
    },
    {
      "cell_type": "code",
      "metadata": {
        "scrolled": true,
        "colab": {
          "base_uri": "https://localhost:8080/",
          "height": 281
        },
        "id": "7ceac4c5",
        "outputId": "bba515e8-211c-43cf-bba1-f7b11c144347"
      },
      "source": [
        "from matplotlib import pyplot as plt\n",
        "\n",
        "plt.plot(model.history.history['loss'],'b',label = \"Loss\")\n",
        "plt.plot(model.history.history['val_loss'],'r',label = \"Val_Loss\")\n",
        "plt.title(\"Epochs = 20, With dropout layer, batch_size = 32, data shape (100,100,3)\")\n",
        "plt.legend()\n",
        "plt.show()"
      ],
      "id": "7ceac4c5",
      "execution_count": 8,
      "outputs": [
        {
          "output_type": "display_data",
          "data": {
            "image/png": "[encoded data removed]",
            "text/plain": [
              "<Figure size 432x288 with 1 Axes>"
            ]
          },
          "metadata": {
            "needs_background": "light"
          }
        }
      ]
    },
    {
      "cell_type": "code",
      "metadata": {
        "colab": {
          "base_uri": "https://localhost:8080/",
          "height": 281
        },
        "id": "84d94d11",
        "outputId": "093fcaee-ed04-4be3-8bac-7d9d5637ead6"
      },
      "source": [
        "plt.plot(model.history.history['accuracy'],'b',label = \"Accuracy\")\n",
        "plt.plot(model.history.history['val_accuracy'],'r',label = \"Val_Accuracy\")\n",
        "plt.title(\"Epochs = 20, With dropout layer, batch_size = 32,data shape (100,100,3)\")\n",
        "plt.legend()\n",
        "plt.show()"
      ],
      "id": "84d94d11",
      "execution_count": 9,
      "outputs": [
        {
          "output_type": "display_data",
          "data": {
            "image/png": "[encoded data removed]",
            "text/plain": [
              "<Figure size 432x288 with 1 Axes>"
            ]
          },
          "metadata": {
            "needs_background": "light"
          }
        }
      ]
    },
    {
      "cell_type": "code",
      "metadata": {
        "id": "755a20ae"
      },
      "source": [
        "model.save('/content/drive/MyDrive/DL/model_3_final_9.h5')"
      ],
      "id": "755a20ae",
      "execution_count": 11,
      "outputs": []
    },
    {
      "cell_type": "code",
      "metadata": {
        "id": "b8994801"
      },
      "source": [
        ""
      ],
      "id": "b8994801",
      "execution_count": null,
      "outputs": []
    }
  ]
}